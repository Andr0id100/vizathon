{
 "cells": [
  {
   "cell_type": "code",
   "execution_count": 92,
   "id": "c0965676",
   "metadata": {},
   "outputs": [],
   "source": [
    "import requests\n",
    "from bs4 import BeautifulSoup\n",
    "import json"
   ]
  },
  {
   "cell_type": "code",
   "execution_count": 13,
   "id": "6d11c4c7",
   "metadata": {},
   "outputs": [],
   "source": [
    "URL = \"https://www.loc.gov/exhibits/civil-rights-act/legal-events-timeline.html\""
   ]
  },
  {
   "cell_type": "code",
   "execution_count": 14,
   "id": "a6d7a79a",
   "metadata": {},
   "outputs": [],
   "source": [
    "res = requests.get(URL)"
   ]
  },
  {
   "cell_type": "code",
   "execution_count": 15,
   "id": "b4b5242f",
   "metadata": {},
   "outputs": [
    {
     "name": "stdout",
     "output_type": "stream",
     "text": [
      "b'<!DOCTYPE html>\\n<html lang=\"en\" class=\"no-js\">\\n<head>\\n<meta charset=\"utf-8\" />\\n<title>Legal Timeline - The Civil Rights Act of 1964: A Long Struggle for Freedom | Exhibitions - Library of Congress</title>\\n<meta name=\"description\" content=\"Legal timeline of civil rights from 1640-1896.\" />\\n<meta name=\"dc.date\" content=\"2014-10-10\" />\\n\\n<link rel=\"dc.relation.isPartOf\" href=\"//www.loc.gov/exhibits/civil-rights-act/\" title=\"The Civil Rights Act of 1964: A Long Struggle for Freedom\" />\\n<link rel=\"dc.relation.isPartOf\" href=\"//www.loc.gov/exhibits/\" title=\"Exhibitions\" />\\n<link rel=\"alternate\" type=\"image/jpg\" \\nhref=\"//www.loc.gov/exhibits/civil-rights-act/images/current_civilrights.jpg\" />\\n\\n<meta name=\"dc.identifier\" content=\"//www.loc.gov/exhibits/civil-rights-act/legal-timeline.html\" />\\n<meta rel=\"canonical\" href=\"//www.loc.gov/exhibits/civil-rights-act/legal-timeline.html\" />\\n\\n<link rel=\"dc.rights\" title=\"Rights Restriction\" href=\"//www.loc.gov/us-government-work\" />\\n<!-- CSS -->\\n<link rel=\"stylesheet\" media=\"screen\" href=\"/exhibits/css/styles.css\" />\\n<link media=\"screen\" rel=\"stylesheet\" href=\"/exhibits/css/lightbox.css\" type=\"text/css\" />\\n<link rel=\"stylesheet\" media=\"print\" href=\"//www.loc.gov/css/loc_print_v2.css\" />\\n<!--[if lte IE 7]><link media=\"screen\" rel=\"stylesheet\" href=\"/css/loc_lte_ie6.css\" /><![endif]-->\\n<!-- scripts -->\\n<script src=\"//cdn.loc.gov/js/lib/jquery-1.7.2.min.js\"></script>\\n<script src=\"//cdn.loc.gov/loc/v1/js/plugins/jquery.carouFredSel-5.6.1.js\"></script>\\n<script src=\"//cdn.loc.gov/loc/v1/js/plugins/jquery.qtip.js\"></script>\\n<script src=\"/exhibits/js/jquery.truncator.js\"></script>\\n<script src=\"//cdn.loc.gov/js/lib/modernizr-1.5.min.js\"></script>\\n<script src=\"/exhibits/js/exhibits.js\"></script>\\n<script src=\"/exhibits/js/lightbox.js\"></script>\\n<script language=\"JavaScript\">\\n    <!--\\n    function MM_openBrWindow(theURL,winName,features) { //v2.0\\n      window.open(theURL,winName,features);\\n    }\\n    //-->\\n</script>\\n<!-- Toolbar -->\\r\\n<script src=\"//cdn.loc.gov/sites/exhibits.js\"></script>\\n<script src=\"//assets.adobedtm.com/dac62e20b491e735c6b56e64c39134d8ee93f9cf/satelliteLib-6b47f831c184878d7338d4683ecf773a17973bb9.js\"></script>\\n</head>\\n<body>\\n<a id=\"skip\" href=\"#skip_menu\">skip navigation</a>\\n<div id=\"container\"> \\n\\t<div id=\"branding\">\\r\\n  <h2>Library of Congress</h2>\\r\\n  <h3>Exhibitions</h3>\\r\\n</div>\\r\\n<!-- end id:branding -->\\r\\n \\n\\t<div id=\"h-wrapper\" class=\"fix-float\">\\n    <div id=\"header\" class=\"fix-float\">\\n        <div class=\"logo\">\\n            <a href=\"https://www.loc.gov/\" accesskey=\"1\"><img src=\"//cdn.loc.gov/images/img-head/logo-loc.png\" width=\"141\" height=\"32\" alt=\"Library of Congress\" /></a>\\n        </div>\\n        <div class=\"nav\">\\n            <ul>\\n                <li><a class=\"btn-loc\" href=\"https://ask.loc.gov/\" accesskey=\"2\">Ask a Librarian</a></li>\\n                <li><a class=\"btn-loc\" href=\"https://www.loc.gov/collections/\" accesskey=\"3\">Digital Collections</a></li>\\n                <li><a class=\"btn-loc\" href=\"https://catalog.loc.gov/\" accesskey=\"4\">Library Catalogs</a></li>\\n            </ul>\\n        </div>\\n        <div class=\"search\">\\n            <form action=\"https://www.loc.gov/search\" method=\"get\">\\n                <label class=\"search_label\" for=\"search\">Search</label>\\n                <div class=\"search_wrap\">\\n                    <input type=\\'hidden\\' name=\\'new\\' value=\\'true\\'/>\\n                    <input id=\"search\" type=\"search\" name=\"q\" maxlength=\"200\" accesskey=\"/\" title=\"Search the Library of Congress website\" placeholder=\"Search Loc.gov\" class=\"locsuggest\" /><button class=\"button\" id=\"search_button\" type=\"submit\">GO</button>\\n                </div>\\n            </form>\\n        </div>\\n    </div>\\n    <script src=\"//cdn.loc.gov/suggest/library-of-congress.js\" type=\"text/javascript\"></script>\\n</div>\\n\\n\\t<div id=\"crumb_nav\"><a href=\"//www.loc.gov\">The Library of Congress</a> <span>&gt;</span> <a href=\"/exhibits/\">Exhibitions</a> <span>&gt;</span> <a href=\"/exhibits/civil-rights-act/\">The Civil Rights Act of 1964: A Long Struggle for Freedom</a> <span>&gt;</span> <a href=\"timelines.html\">Timelines</a> &gt; Legal Timeline</div>\\n\\t<div id=\"content\"> \\n\\t\\t<div id=\"left_nav\" role=\"navigation\">\\n  <div class=\"box leftnavtitle\"><a href=\"/exhibits/\"><img src=\"/exhibits/images/left-img-head.jpg\" alt=\"Exhibitions\" width=\"219\" height=\"50\" /></a></div>\\n  <div class=\"box leftnavimg\">Exhibitions Image</div>\\n  <div class=\"box\">\\n  \\t <form action=\"https://www.loc.gov/search/\" accept-charset=\"utf-8\" id=\"site_search\" name=\"seek1\" method=\"get\">\\n          <input type=\"hidden\" name=\"fa\" value=\"digitized:true|partof:exhibitions\" />\\n          <input id=\"searchtext\" name=\"q\" type=\"text\" placeholder=\"Search this site\" title=\"Search this site\" onfocus=\"this.value=\\'\\'\" />\\n      <input class=\"button\" type=\"submit\" value=\"GO\" />\\n    </form>\\n  </div>\\n  <div class=\"box\">\\n    <ul class=\"arrow_o bold\">\\n      <li><a href=\"/exhibits/\">Exhibitions Home</a></li>\\n      <li><a href=\"/exhibits/current/\">Current Exhibitions</a></li>\\n      <li><a href=\"/exhibits/all/\">All Exhibitions</a></li>\\n      <li><a href=\"/exhibits/programs/\">Programs &amp; Events</a></li>\\n      <li><a href=\"/exhibits/traveling/\">Traveling Exhibitions</a></li>\\n      <li><a href=\"/exhibits/loan/\">Loan Procedures for Institutions</a></li>\\n      <li><a href=\"/exhibits/special-presentations/\">Special Presentations</a></li>\\n      <li><a href=\"/exhibits/contact/\">Contact Us</a></li>\\n    </ul>\\n  </div>\\n</div>\\n<!-- end id:left_nav -->\\n \\n\\t\\t<div id=\"main_body\" role=\"main\"> \\n\\t\\t\\t<!-- Toolbar -->\\n\\t\\t\\t<div class=\"locshare-this\" id=\\'instance_cds1001\\'></div>\\n\\t\\t\\t<div class=\"clear-share\"><!-- --></div>\\n\\t\\t\\t<div id=\"page_head\"><span style=\"width: 100%;\"><a id=\"skip_menu\"></a></span>\\n\\t\\t\\t\\t<h1>The Civil Rights Act of 1964: A Long Struggle for Freedom<br />\\n\\t\\t\\t\\t\\t<span>Legal Timeline</span></h1>\\n\\t\\t\\t</div>\\n\\t\\t\\t<!-- Banner Image -->\\n\\t\\t\\t<div class=\"box_img\"><img src=\"images/banner-nodates.jpg\" alt=\"\" width=\"694\" height=\"100\" /></div>\\n\\t\\t\\t<!-- Navigation -->\\n\\t\\t\\t<div id=\"main_nav\" class=\"w_tert\"><a href=\"index.html\">Home</a> | <a href=\"overivew.html\">Exhibition Overview</a> | <a href=\"exhibit-items.html\">Exhibition Items</a> | <a href=\"timelines.html\">Timelines</a> | <a href=\"multimedia.html\">Multimedia</a> | <a href=\"public-programs.html\">Public Programs</a> | <a href=\"learn-more.html\">Learn More</a> | <a href=\"credits.html\">Acknowledgments</a></div>\\n\\t\\t\\t<div id=\"tert_nav\"><strong>Sections:</strong> <a href=\"prologue.html\">Prologue</a> | <a href=\"segregation-era.html\">The Segregation Era (1900&ndash;1939)</a> | <a href=\"world-war-ii-and-post-war.html\">World War II and Post War (1940&ndash;1949)</a> | <a href=\"civil-rights-era.html\">Civil Rights Era (1950&ndash;1963)</a> | <a href=\"civil-rights-act-of-1964.html\">The Civil Rights Act of 1964</a> | <a href=\"immediate-impact.html\">Immediate Impact of the Civil Rights Act</a> | <a href=\"epilogue.html\">Epilogue</a></div>\\n\\t\\t\\t<!-- CONTENT - BEGIN -->\\n\\t\\t\\t\\n\\t\\t\\t<h2>Prologue</h2>\\n\\t\\t\\t<div class=\"section\">\\n\\t\\t\\t\\t<h3>1640&ndash;1896</h3>\\n\\t\\t\\t\\t<div class=\"exhibit2col-pic-left\">\\n\\t\\t\\t\\t\\t<dl>\\n\\t\\t\\t\\t\\t\\t<dt>1640</dt>\\n\\t\\t\\t\\t\\t\\t<dd>Negro indentured servant John Punch ran away and received a life sentence in Virginia; his white counterparts only received three-year sentences</dd>\\n\\t\\t\\t\\t\\t\\t<dt>1641</dt>\\n\\t\\t\\t\\t\\t\\t<dd>Massachusetts authorized slavery with legislation</dd>\\n\\t\\t\\t\\t\\t\\t<dt>1660</dt>\\n\\t\\t\\t\\t\\t\\t<dd>Virginia specifically punished indentured servants who ran away with Negroes slaves</dd>\\n\\t\\t\\t\\t\\t\\t<dt>1662</dt>\\n\\t\\t\\t\\t\\t\\t<dd>Virginia determined birthright of Negroes based on the status of the mother rather than the father, as had been the British custom for centuries</dd>\\n\\t\\t\\t\\t\\t\\t<dt>1680</dt>\\n\\t\\t\\t\\t\\t\\t<dd>Virginia enacted the first major slave codes</dd>\\n\\t\\t\\t\\t\\t\\t<dt>1705</dt>\\n\\t\\t\\t\\t\\t\\t<dd>Virginia relegated slaves, Indians, and mulattos to the status of property</dd>\\n\\t\\t\\t\\t\\t\\t<dt>1776</dt>\\n\\t\\t\\t\\t\\t\\t<dd>Declaration of Independence signed</dd>\\n\\t\\t\\t\\t\\t\\t<dt>1781</dt>\\n\\t\\t\\t\\t\\t\\t<dd><em>Quock Walker v. Jennison</em> (Massachusetts) relied on the Declaration of Rights, which ultimately led to the abolition of slavery in 1783 there</dd>\\n\\t\\t\\t\\t\\t\\t<dt>1785</dt>\\n\\t\\t\\t\\t\\t\\t<dd>New York passed legislation for the gradual emancipation of slaves</dd>\\n\\t\\t\\t\\t\\t\\t<dt>1788</dt>\\n\\t\\t\\t\\t\\t\\t<dd>U.S. Constitution is ratified by eleven states</dd>\\n\\t\\t\\t\\t\\t\\t<dt>1789</dt>\\n\\t\\t\\t\\t\\t\\t<dd>George Washington, a slave owner, inaugurated as the first president of the United States </dd>\\n\\t\\t\\t\\t\\t\\t<dt>1791</dt>\\n\\t\\t\\t\\t\\t\\t<dd>\\xe2\\x80\\x9cBill of Rights\\xe2\\x80\\x9d added to U.S. Constitution; Virginia ratified on December 15, 1791</dd>\\n\\t\\t\\t\\t\\t\\t<dt>1820</dt>\\n\\t\\t\\t\\t\\t\\t<dd>Missouri Compromise created rules for the expansion of slavery into western territories and prohibited slavery north of the 36\\xc2\\xb0 30\\xc2\\xb4 latitude except in Missouri</dd>\\n\\t\\t\\t\\t\\t\\t<dt>1841</dt>\\n\\t\\t\\t\\t\\t\\t<dd>Former President John Quincy Adams defended Africans aboard the Spanish ship <em>Amistad</em></dd>\\n\\t\\t\\t\\t\\t\\t<dt>1850</dt>\\n\\t\\t\\t\\t\\t\\t<dd>Fugitive Slave Act of 1850 required citizens to assist in the return of escaped slaves to their owners </dd>\\n\\t\\t\\t\\t\\t\\t<dt>1850 </dt>\\n\\t\\t\\t\\t\\t\\t<dd><em>Roberts v. City of Boston</em> (Massachusetts) found no constitutional impediment to segregated schools</dd>\\n\\t\\t\\t\\t\\t\\t<dt>1854</dt>\\n\\t\\t\\t\\t\\t\\t<dd>Kansas-Nebraska Act repealed the Missouri Compromise, allowing slavery in the northern territories</dd>\\n\\t\\t\\t\\t\\t\\t<dt>1857</dt>\\n\\t\\t\\t\\t\\t\\t<dd><em>Dred Scott v. Sanford</em> (Missouri) declared that all blacks&mdash;slaves as well as free&mdash;were not and could never become citizens of the United States</dd>\\n\\t\\t\\t\\t\\t\\t<dt>1862</dt>\\n\\t\\t\\t\\t\\t\\t<dd>Federal emancipation of slaves in the District of Columbia</dd>\\n\\t\\t\\t\\t\\t\\t<dt>1863</dt>\\n\\t\\t\\t\\t\\t\\t<dd>Emancipation Proclamation took effect</dd>\\n\\t\\t\\t\\t\\t\\t<dt>1864</dt>\\n\\t\\t\\t\\t\\t\\t<dd>Fugitive Slave Act repealed</dd>\\n\\t\\t\\t\\t\\t\\t<dt>1865</dt>\\n\\t\\t\\t\\t\\t\\t<dd>Thirteenth Amendment to the U.S. Constitution abolished slavery</dd>\\n\\t\\t\\t\\t\\t\\t<dt>1865</dt>\\n\\t\\t\\t\\t\\t\\t<dd>Act to Establish a Bureau for the Relief of Freedmen and Refugees</dd>\\n\\t\\t\\t\\t\\t\\t<dt>1866</dt>\\n\\t\\t\\t\\t\\t\\t<dd>Civil Rights Act of 1866 guaranteed equal rights under law for all people who lived within the jurisdiction of the United States </dd>\\n\\t\\t\\t\\t\\t\\t<dt>1868</dt>\\n\\t\\t\\t\\t\\t\\t<dd>Fourteenth Amendment to the U.S. Constitution granted citizenship to all people born or naturalized in the United States and prohibited states from denying any person the equal protection of the laws or depriving any person of life, liberty, or property without due process of law</dd>\\n\\t\\t\\t\\t\\t\\t<dt>1870</dt>\\n\\t\\t\\t\\t\\t\\t<dd>Fifteenth Amendment to the U.S. Constitution granted African American men the right to vote</dd>\\n\\t\\t\\t\\t\\t\\t<dt>1870&ndash;1871</dt>\\n\\t\\t\\t\\t\\t\\t<dd>Three Enforcement Acts gave the federal government substantial authority to prosecute those who violated the civil and political rights of African Americans, especially members of the Ku Klux Klan </dd>\\n\\t\\t\\t\\t\\t\\t<dt>1873</dt>\\n\\t\\t\\t\\t\\t\\t<dd><em>Slaughterhouse Cases</em> limited the Constitutional significance of the 14th Amendment\\xe2\\x80\\x99s privileges and immunities clause by interpreting the clause as only protecting rights of national citizenship from actions of state government</dd>\\n\\t\\t\\t\\t\\t\\t<dt>1873</dt>\\n\\t\\t\\t\\t\\t\\t<dd><em>Bradwell v. Illinois</em> rejected a woman\\xe2\\x80\\x99s claim that the Fourteenth Amendment required the state to allow her to practice law in the first sex discrimination case heard by the U.S. Supreme Court</dd>\\n\\t\\t\\t\\t\\t\\t<dt>1875</dt>\\n\\t\\t\\t\\t\\t\\t<dd>Civil Rights Act of 1875 guaranteed African Americans equal treatment in public accommodations, public transportation, and prohibited their exclusion from jury service </dd>\\n\\t\\t\\t\\t\\t\\t<dt>1875</dt>\\n\\t\\t\\t\\t\\t\\t<dd><em>Minor v. Happersett</em> (Missouri) held that a state could constitutionally forbid a woman from voting</dd>\\n\\t\\t\\t\\t\\t\\t<dt>1883</dt>\\n\\t\\t\\t\\t\\t\\t<dd><em>Civil Rights Cases</em> heard by the U.S. Supreme Court declared parts of the 1875 Civil Rights Act unconstitutional, including the prohibition of racial discrimination in inns, public conveyances, and places of public amusement</dd>\\n\\t\\t\\t\\t\\t\\t<dt>1896</dt>\\n\\t\\t\\t\\t\\t\\t<dd><em>Plessy v. Ferguson</em> (Louisiana) upheld the constitutionality of a Louisiana statute that required railroads to provide \\xe2\\x80\\x9cequal but separate accommodations for the white and colored races\\xe2\\x80\\x9d</dd>\\n\\t\\t\\t\\t\\t</dl>\\n\\t\\t\\t\\t</div>\\n\\t\\t\\t\\t<!-- end id:col2_left -->\\n\\t\\t\\t\\t<div class=\"exhibit2col-pic-right\">\\n\\t\\t\\t\\t\\t<div class=\"picframe\">\\n\\t\\t\\t\\t\\t\\t<div class=\"pic-box-alt w-border\"><a href=\"images/legal-timeline-prologue_enlarge.jpg\" rel=\"lightbox\" data-title=\"African American men posed at entrance to building, some with derbys and top hats, and banner labeled &ldquo;Waiters Union&rdquo; in Georgia. Prints and Photographs Division, Library of Congress <div class=\\'caption_link\\'>//www.loc.gov/pictures/resource/ppmsca.08759/</div>\"><img class=\"i_aligncenter border\" src=\"images/legal-timeline-prologue.jpg\" width=\"280\" alt=\"\" /><span class=\"pic-box-enlarge\" href=\"\">Enlarge</span></a></div>\\n\\t\\t\\t\\t\\t\\t<p><a href=\"//www.loc.gov/pictures/item/95507092/\">African American men posed at entrance to building, some with derbys and top hats, and banner labeled \"Waiters Union\" in Georgia</a>. <a href=\"//www.loc.gov/rr/print/\">Prints and Photographs Division</a>, Library of Congress</p>\\n\\t\\t\\t\\t\\t</div>\\n\\t\\t\\t\\t</div>\\n\\t\\t\\t\\t<!-- end id:col2_right -->\\n\\t\\t\\t\\t<div class=\"clear\"><!-- --></div>\\n\\t\\t\\t</div>\\n\\t\\t\\t<!-- end section -->\\n\\t\\t\\t<p class=\"backtotop\"><a href=\"#skip_menu\">Back to top</a></p>\\n\\t\\t\\t<h2>The Segregation Era</h2>\\n\\t\\t\\t<div class=\"section\">\\n\\t\\t\\t\\t<h3>1903&ndash;1939</h3>\\n\\t\\t\\t\\t<div class=\"exhibit2col-pic-left\">\\n\\t\\t\\t\\t\\t<dl>\\n\\t\\t\\t\\t\\t\\t<dt>1903</dt>\\n\\t\\t\\t\\t\\t\\t<dd><em>Giles v. Harris</em> (Alabama) refused to order the board of registrars to register an African American to vote in part because the court concluded that unless it could actually supervise elections, it was unable to force white Alabamans to allow African Americans to vote</dd>\\n\\t\\t\\t\\t\\t\\t<dt>1906</dt>\\n\\t\\t\\t\\t\\t\\t<dd><em>Hodges v. United States</em> (Arkansas) reversed a conviction against whites who had ejected \\xe2\\x80\\x9ccitizens of the United States of African descent\\xe2\\x80\\x9d from their jobs; the decision narrowed the congressional civil rights authority under the Thirteenth Amendment</dd>\\n\\t\\t\\t\\t\\t\\t<dt>1910</dt>\\n\\t\\t\\t\\t\\t\\t<dd><em>Franklin v. State of South Carolina</em> affirmed the judgment of the South Carolina Supreme Court to execute African American Pink Franklin for the killing of a white constable, H. E. Valentine. Franklin shot Valentine when he came to arrest Franklin for violating a peonage-based contract for work</dd>\\n\\t\\t\\t\\t\\t\\t<dt>1911</dt>\\n\\t\\t\\t\\t\\t\\t<dd><em>Bailey v. State of Alabama</em> invalidated, based on the Thirteenth Amendment, a law that facilitated \\xe2\\x80\\x9cdebt peonage,\\xe2\\x80\\x9d a form of involuntary servitude</dd>\\n\\t\\t\\t\\t\\t\\t<dt>1913</dt>\\n\\t\\t\\t\\t\\t\\t<dd><em>Guinn v. United States</em> (Oklahoma) deemed that state constitutional provisions permitting \\xe2\\x80\\x9cgrandfather clauses\\xe2\\x80\\x9d for passing literacy tests as a voting requirement were unconstitutional</dd>\\n\\t\\t\\t\\t\\t\\t<dt>1917</dt>\\n\\t\\t\\t\\t\\t\\t<dd><em>Buchanan v. Warley</em> (Kentucky) held residential racial segregation unconstitutional</dd>\\n\\t\\t\\t\\t\\t\\t<dt>1920</dt>\\n\\t\\t\\t\\t\\t\\t<dd>Nineteenth Amendment to the U.S. Constitution granted women the right to vote </dd>\\n\\t\\t\\t\\t\\t\\t<dt>1927</dt>\\n\\t\\t\\t\\t\\t\\t<dd><em>Nixon v. Herndon</em> (Texas) struck down a 1923 Texas law that prohibited blacks from voting in the Democratic Party primary</dd>\\n\\t\\t\\t\\t\\t\\t<dt>1932</dt>\\n\\t\\t\\t\\t\\t\\t<dd><em>Nixon v. Condon</em> (Texas) declared that the prohibition of African Americans from the Democratic primaries by the executive committee was unconstitutional</dd>\\n\\t\\t\\t\\t\\t\\t<dt>1935</dt>\\n\\t\\t\\t\\t\\t\\t<dd><em>Grovey v. Townsend</em> (Texas) ruled that the members of the Democratic Party of Texas who assembled at a convention and made resolutions about those qualified to vote in the Democratic primary were a private group and that barring all but white citizens was not an act of the state and therefore not in violation of the Fourteenth and Fifteenth Amendments</dd>\\n\\t\\t\\t\\t\\t\\t<dt>1935</dt>\\n\\t\\t\\t\\t\\t\\t<dd><em>Pearson v. Murray</em> (Maryland), Daniel Gaines Murray, an African American, was admitted to the University of Maryland Law School when the Maryland Court of Appeals concluded that the state had failed to provide Murray with a separate but equal education</dd>\\n\\t\\t\\t\\t\\t\\t<dt>1938</dt>\\n\\t\\t\\t\\t\\t\\t<dd><em>Missouri ex. rel. Gaines v. Canada</em> (Missouri), the Supreme Court held that states providing a law school for white students were constitutionally required to provide in-state education for African American students as well, either by integrating the state law school or creating a separate school for African Americans</dd>\\n\\t\\t\\t\\t\\t\\t<dt>1939</dt>\\n\\t\\t\\t\\t\\t\\t<dd>Creation of the Civil Liberties Unit, later renamed the Civil Rights Section of the Department of Justice, the first federal entity tasked with the protection of civil rights since Reconstruction</dd>\\n\\t\\t\\t\\t\\t</dl>\\n\\t\\t\\t\\t</div>\\n\\t\\t\\t\\t<!-- end id:col2_left -->\\n\\t\\t\\t\\t<div class=\"exhibit2col-pic-right\">\\n\\t\\t\\t\\t\\t<div class=\"picframe\">\\n\\t\\t\\t\\t\\t\\t<div class=\"pic-box-alt w-border\"><a href=\"images/legal-timeline-segregation_enlarge.jpg\" rel=\"lightbox\" data-title=\"Silent protest parade in New York [City] against the East St. Louis riots, 1917. Prints and Photographs Division, Library of Congress <div class=\\'caption_link\\'>//www.loc.gov/pictures/resource/ds.00894/</div>\"><img class=\"i_aligncenter border\" src=\"images/legal-timeline-segregation.jpg\" width=\"280\" alt=\"\" /><span class=\"pic-box-enlarge\" href=\"\">Enlarge</span></a></div>\\n\\t\\t\\t\\t\\t\\t<p><a href=\"//www.loc.gov/pictures/item/95517074/\">Silent protest parade in New York [City] against the East St. Louis riots, 1917</a>. <a href=\"//www.loc.gov/rr/print/\">Prints and Photographs Division</a>, Library of Congress</p>\\n\\t\\t\\t\\t\\t</div>\\n\\t\\t\\t\\t</div>\\n\\t\\t\\t\\t<!-- end id:col2_right -->\\n\\t\\t\\t\\t<div class=\"clear\"><!-- --></div>\\n\\t\\t\\t</div>\\n\\t\\t\\t<!-- end section -->\\n\\t\\t\\t<p class=\"backtotop\"><a href=\"#skip_menu\">Back to top</a></p>\\n\\t\\t\\t<h2>World War II &amp; Post War Years</h2>\\n\\t\\t\\t<div class=\"section\">\\n\\t\\t\\t\\t<h3>1941&ndash;1945</h3>\\n\\t\\t\\t\\t<div class=\"exhibit2col-pic-left\">\\n\\t\\t\\t\\t\\t<dl>\\n\\t\\t\\t\\t\\t\\t<dt>1941</dt>\\n\\t\\t\\t\\t\\t\\t<dd>Executive Order 8802 prohibited racial discrimination in the national defense industry in response to the intended first March on Washington (Roosevelt)</dd>\\n\\t\\t\\t\\t\\t\\t<dt>1942</dt>\\n\\t\\t\\t\\t\\t\\t<dd>Executive Order 9066 designated much of the West Coast a \\xe2\\x80\\x9cmilitary area\\xe2\\x80\\x9d and ordered more than 100,000 Japanese Americans to relocate and live in internment camps (Roosevelt)</dd>\\n\\t\\t\\t\\t\\t\\t<dt>1944</dt>\\n\\t\\t\\t\\t\\t\\t<dd><em>Smith v. Allwright</em> (Texas) overturned the Democratic Party\\xe2\\x80\\x99s use of all-white primaries in Texas and other states</dd>\\n\\t\\t\\t\\t\\t\\t<dt>1944</dt>\\n\\t\\t\\t\\t\\t\\t<dd><em>Korematsu v. United States</em> (California) upheld the right to exclude Japanese Americans even though in a separate case, it found the relocation camps to be unconstitutional</dd>\\n\\t\\t\\t\\t\\t\\t<dt>1944</dt>\\n\\t\\t\\t\\t\\t\\t<dd><em>Pollock v. Williams</em> (Florida) reversed a decision that upheld Florida\\xe2\\x80\\x99s 1919 law facilitating debt peonage</dd>\\n\\t\\t\\t\\t\\t\\t<dt>1946</dt>\\n\\t\\t\\t\\t\\t\\t<dd><em>Morgan v. Virginia</em> found a Virginia law that required the races be separated in all intrastate and interstate travel unconstitutional</dd>\\n\\t\\t\\t\\t\\t\\t<dt>1948</dt>\\n\\t\\t\\t\\t\\t\\t<dd><em>Shelley v. Kraemer</em> (Missouri) held that courts could not enforce racially restrictive covenants on real estate that prevented \\xe2\\x80\\x9cpeople of Negro or Mongolian race\\xe2\\x80\\x9d from buying or living in certain neighborhoods</dd>\\n\\t\\t\\t\\t\\t\\t<dt>1948</dt>\\n\\t\\t\\t\\t\\t\\t<dd><em>Perez v. Sharp</em> (California) was the first case in which a court invalidated a ban on interracial marriage when the California Supreme Court concluded that the ban violated the Fourteenth Amendment to the United States Constitution</dd>\\n\\t\\t\\t\\t\\t\\t<dt>1948</dt>\\n\\t\\t\\t\\t\\t\\t<dd>Executive Order 9980 prohibited discrimination in civilian agencies and instituted fair employment practices (Truman)</dd>\\n\\t\\t\\t\\t\\t\\t<dt>1948</dt>\\n\\t\\t\\t\\t\\t\\t<dd>Executive Order 9981 abolished racial discrimination in the armed forces (Truman)</dd>\\n\\t\\t\\t\\t\\t</dl>\\n\\t\\t\\t\\t</div>\\n\\t\\t\\t\\t<!-- end id:col2_left -->\\n\\t\\t\\t\\t<div class=\"exhibit2col-pic-right\">\\n\\t\\t\\t\\t\\t<div class=\"picframe\">\\n\\t\\t\\t\\t\\t\\t<div class=\"pic-box-alt w-border\"><a href=\"images/legal-timeline-wwii_enlarge.jpg\" rel=\"lightbox\" data-title=\"Seven pilots(?) on airplane, Tuskegee Army Air Field, Alabama. Prints and Photographs Division, Library of Congress <div class=\\'caption_link\\'>//www.loc.gov/pictures/resource/cph.3c28633/</div>\"><img class=\"i_aligncenter border\" src=\"images/legal-timeline-wwii.jpg\" width=\"280\" alt=\"\" /><span class=\"pic-box-enlarge\" href=\"\">Enlarge</span></a></div>\\n\\t\\t\\t\\t\\t\\t<p><a href=\"//www.loc.gov/pictures/item/2001696876/\">Seven pilots(?) on airplane, Tuskegee Army Air Field, Alabama</a>. <a href=\"//www.loc.gov/rr/print/\">Prints and Photographs Division</a>, Library of Congress</p>\\n\\t\\t\\t\\t\\t</div>\\n\\t\\t\\t\\t</div>\\n\\t\\t\\t\\t<!-- end id:col2_right -->\\n\\t\\t\\t\\t<div class=\"clear\"><!-- --></div>\\n\\t\\t\\t</div>\\n\\t\\t\\t<!-- end section -->\\n\\t\\t\\t<p class=\"backtotop\"><a href=\"#skip_menu\">Back to top</a></p>\\n\\t\\t\\t<h2>Civil Rights Era</h2>\\n\\t\\t\\t<div class=\"section\">\\n\\t\\t\\t\\t<h3>1951&ndash;1963</h3>\\n\\t\\t\\t\\t<div class=\"exhibit2col-pic-left\">\\n\\t\\t\\t\\t\\t<dl>\\n\\t\\t\\t\\t\\t\\t<dt>1951</dt>\\n\\t\\t\\t\\t\\t\\t<dd>Executive Order 10308 created Committee on Government Compliance to enforce the prohibition against employment discrimination by firms contracting or subcontracting government orders (Truman)</dd>\\n\\t\\t\\t\\t\\t\\t<dt>1953</dt>\\n\\t\\t\\t\\t\\t\\t<dd>Executive Order 10479 created the Government Contract Committee to replace the Committee on Government Compliance (Eisenhower)</dd>\\n\\t\\t\\t\\t\\t\\t<dt>1954</dt>\\n\\t\\t\\t\\t\\t\\t<dd><em>Brown v. Board of Education of Topeka, Kansas</em>, held that public education and segregation of children in public schools solely on the basis of race, even though the physical facilities and other tangible factors were equal, deprived equal educational opportunities to children of the minority group</dd>\\n\\t\\t\\t\\t\\t\\t<dt>1955</dt>\\n\\t\\t\\t\\t\\t\\t<dd><em>Brown v. Board of Education of Topeka, Kansas II</em> stated that Southern schools should comply with <em>Brown I</em> \\xe2\\x80\\x9cwith all deliberate speed,\\xe2\\x80\\x9d which white Southerners understood as allowing them to resist and only symbolically comply with school desegregation</dd>\\n\\t\\t\\t\\t\\t\\t<dt>1957</dt>\\n\\t\\t\\t\\t\\t\\t<dd>The Civil Rights Act of 1957 established the Civil Rights Commission (CRC) to protect an individual\\xe2\\x80\\x99s rights to equal protection and protected some civil and voting rights, but it lacked substantial enforcement mechanisms</dd>\\n\\t\\t\\t\\t\\t\\t<dt>1960</dt>\\n\\t\\t\\t\\t\\t\\t<dd>The Civil Rights Act of 1960 guaranteed qualified voters the right to register to vote in any state and the right to sue a state official or acting state official who prevented them from voting</dd>\\n\\t\\t\\t\\t\\t\\t<dt>1961</dt>\\n\\t\\t\\t\\t\\t\\t<dd>Executive Order 10925 created the Committee on Equal Opportunity to combat discrimination in government employment and in private employment stemming from government contracts (Kennedy)</dd>\\n\\t\\t\\t\\t\\t\\t<dt>1961</dt>\\n\\t\\t\\t\\t\\t\\t<dd><em>Monroe v. Pape</em> revitalized Section 1983 of the Civil Rights Act of 1871, by allowing individuals to sue government actors for violations of civil rights</dd>\\n\\t\\t\\t\\t\\t\\t<dt>1962</dt>\\n\\t\\t\\t\\t\\t\\t<dd>Executive Order 11063 banned racial discrimination in federally funded housing (Kennedy)</dd>\\n\\t\\t\\t\\t\\t\\t<dt>1963</dt>\\n\\t\\t\\t\\t\\t\\t<dd>Equal Pay Act required employers to pay all employees equally for equal work, regardless of whether the employees are male or female</dd>\\n\\t\\t\\t\\t\\t\\t<dt>1963</dt>\\n\\t\\t\\t\\t\\t\\t<dd>Executive Order 11114 extended guarantees against employment discrimination to federally assisted contracts in the construction industry (Kennedy)</dd>\\n\\t\\t\\t\\t\\t</dl>\\n\\t\\t\\t\\t</div>\\n\\t\\t\\t\\t<!-- end id:col2_left -->\\n\\t\\t\\t\\t<div class=\"exhibit2col-pic-right\">\\n\\t\\t\\t\\t\\t<div class=\"picframe\">\\n\\t\\t\\t\\t\\t\\t<div class=\"pic-box-alt w-border\"><a href=\"images/legal-timeline-act_enlarge.jpg\" rel=\"lightbox\" data-title=\"Civil rights leaders meet with President John F. Kennedy in the Oval Office of the White House after the March on Washington, D.C. Prints and Photographs Division, Library of Congress <div class=\\'caption_link\\'>//www.loc.gov/pictures/resource/ds.04413/</div>\"><img class=\"i_aligncenter border\" src=\"images/legal-timeline-act.jpg\" width=\"280\" alt=\"\" /><span class=\"pic-box-enlarge\" href=\"\">Enlarge</span></a></div>\\n\\t\\t\\t\\t\\t\\t<p><a href=\"//www.loc.gov/pictures/item/2013648833/\">Civil rights leaders meet with President John F. Kennedy in the Oval Office of the White House after the March on Washington, D.C.</a> Prints and Photographs Division, Library of Congress</p>\\n\\t\\t\\t\\t\\t</div>\\n\\t\\t\\t\\t</div>\\n\\t\\t\\t\\t<!-- end id:col2_right -->\\n\\t\\t\\t\\t<div class=\"clear\"><!-- --></div>\\n\\t\\t\\t</div>\\n\\t\\t\\t<!-- end section -->\\n\\t\\t\\t<p class=\"backtotop\"><a href=\"#skip_menu\">Back to top</a></p>\\n\\t\\t\\t<h2>Civil Rights Act of 1964 and Beyond</h2>\\n\\t\\t\\t<div class=\"section\">\\n\\t\\t\\t\\t<h3>1964&ndash;2014</h3>\\n\\t\\t\\t\\t\\t<dl>\\n\\t\\t\\t\\t\\t\\t<dt>1964</dt>\\n\\t\\t\\t\\t\\t\\t<dd>Civil Rights Act of 1964 prohibited discrimination in public accommodations and employment; authorized the attorney general to bring school desegregation suits and the federal government to withdraw funds from schools and other governmental entities receiving federal funds if they discriminated; and provided enhanced enforcement mechanisms for protecting civil and voting rights</dd>\\n\\t\\t\\t\\t\\t\\t<dt>1964</dt>\\n\\t\\t\\t\\t\\t\\t<dd>Twenty-fourth Amendment to the U.S. Constitution eliminated poll taxes in federal elections</dd>\\n\\t\\t\\t\\t\\t\\t<dt>1965</dt>\\n\\t\\t\\t\\t\\t\\t<dd>Voting Rights Act of 1965 enforced the Fifteenth Amendment to the U.S. Constitution and provided for substantial federal supervision of voting and election procedures in order to eliminate racial discrimination and protect the right to vote</dd>\\n\\t\\t\\t\\t\\t\\t<dt>1965</dt>\\n\\t\\t\\t\\t\\t\\t<dd>Older Americans Act of 1965 provided assistance in the development of new or improved programs to help older persons through grants to the states for community planning and services and for training through research, development, or training project grants&mdash;and to establish within the Department of Health, Education and Welfare an operating agency to be designated as the Administration on Aging</dd>\\n\\t\\t\\t\\t\\t\\t<dt>1965</dt>\\n\\t\\t\\t\\t\\t\\t<dd>Medicare Act provided a hospital insurance program for the aged under the Social Security Act with a supplementary medical benefits program and an expanded program of medical assistance to increase benefits under the Old-Age, Survivors, and Disability Insurance System and improved the federal-state public assistance programs</dd>\\n\\t\\t\\t\\t\\t\\t<dt>1965</dt>\\n\\t\\t\\t\\t\\t\\t<dd>Act to Amend the Vocational Rehabilitation Act assisted in providing more flexibility in the financing and administration of state rehabilitation programs and expanded and improved services and facilities provided under such programs, particularly for the mentally disabled</dd>\\n\\t\\t\\t\\t\\t\\t<dt>1965</dt>\\n\\t\\t\\t\\t\\t\\t<dd>Executive Order 11246 authorized federal agencies to enforce the Civil Rights Act of 1964 (Johnson)</dd>\\n\\t\\t\\t\\t\\t\\t<dt>1966</dt>\\n\\t\\t\\t\\t\\t\\t<dd><em>Harper v. Virginia Board of Elections</em> found Virginia\\xe2\\x80\\x99s poll tax unconstitutional under the equal protection clause of the Fourteenth Amendment, making poll taxes illegal for state and federal elections</dd>\\n\\t\\t\\t\\t\\t\\t<dt>1966</dt>\\n\\t\\t\\t\\t\\t\\t<dd>Executive Order 11375 added sex discrimination to the enforcement of the Civil Rights Act of 1964 as required by Executive Order 11246 (Johnson)</dd>\\n\\t\\t\\t\\t\\t\\t<dt>1967</dt>\\n\\t\\t\\t\\t\\t\\t<dd>Age Discrimination in Employment Act of 1967 prohibited arbitrary age discrimination in employment and helped employers and workers find ways of meeting problems arising from the impact of age on employment</dd>\\n\\t\\t\\t\\t\\t\\t<dt>1968</dt>\\n\\t\\t\\t\\t\\t\\t<dd>Civil Rights Act of 1968 provided for equal housing opportunities regardless of race, creed, or national origin and made it a federal crime to injure or intimidate anyone because of their race, color, religion, or national origin</dd>\\n\\t\\t\\t\\t\\t\\t<dt>1968</dt>\\n\\t\\t\\t\\t\\t\\t<dd><em>Jones v. Alfred H. Mayer Co</em>. (Missouri) prohibited purely private discrimination in the sale or rental of property</dd>\\n\\t\\t\\t\\t\\t\\t<dt>1968</dt>\\n\\t\\t\\t\\t\\t\\t<dd><em>Green et. al. v. County School Board of New Kent County</em> (Virginia) reversed the decision of the Virginia Court of Appeals that supported separate schools for whites and blacks</dd>\\n\\t\\t\\t\\t\\t\\t<dt>1969</dt>\\n\\t\\t\\t\\t\\t\\t<dd>Executive Order 11478 required equal opportunity and affirmative action programs in all federal agencies (Nixon)</dd>\\n\\t\\t\\t\\t\\t\\t<dt>1972</dt>\\n\\t\\t\\t\\t\\t\\t<dd>The Equal Opportunity Act amended the Civil Rights Act of 1964 to apply to local, state, and federal governments and allow the Equal Employment Opportunity Commission to bring suits itself</dd>\\n\\t\\t\\t\\t\\t\\t<dt>1973</dt>\\n\\t\\t\\t\\t\\t\\t<dd>Vocational Rehabilitation Act of 1973 prohibited discrimination on the basis of disability in federal programs, federal contractors, programs receiving federal money, and federal employment</dd>\\n\\t\\t\\t\\t\\t\\t<dt>1973</dt>\\n\\t\\t\\t\\t\\t\\t<dd><em>Keyes v. Denver School District</em> (Colorado) distinguished between <em>de jure</em> (sanctioned by law) and <em>de facto</em> (true in fact but not officially sanctioned) school segregation</dd>\\n\\t\\t\\t\\t\\t\\t<dt>1973</dt>\\n\\t\\t\\t\\t\\t\\t<dd><em>San Antonio Independent School District v. Rodriguez</em> (Texas) held that there was no constitutional violation in unequal school funding and ruled that education is not a fundamental right</dd>\\n\\t\\t\\t\\t\\t\\t<dt>1973</dt>\\n\\t\\t\\t\\t\\t\\t<dd><em>Milliken v. Bradley</em> (Michigan) found that <em>de jure</em> segregation in one school district could not justify busing children to and from surrounding school districts</dd>\\n\\t\\t\\t\\t\\t\\t<dt>1975</dt>\\n\\t\\t\\t\\t\\t\\t<dd>Education for All Handicapped Children Act required all public schools accepting federal funds to provide equal access to education and one free meal per day for children with physical and mental disabilities</dd>\\n\\t\\t\\t\\t\\t\\t<dt>1975</dt>\\n\\t\\t\\t\\t\\t\\t<dd>Age Discrimination Act of 1975 amended the Older Americans Act of 1965 to establish social services programs for older Americans to extend the authorizations of appropriations contained in such act, and to prohibit discrimination on the basis of age</dd>\\n\\t\\t\\t\\t\\t\\t<dt>1976</dt>\\n\\t\\t\\t\\t\\t\\t<dd><em>Hills v. Gautreau</em> (Illinois) determined that HUD had provided financial assistance to the Chicago Housing Authority, which had used the funds in a racially discriminatory way, violating Title VI and the 5th Amendment; HUD\\xe2\\x80\\x99s violation authorized the judiciary to require a remedy that extended beyond the city of Chicago</dd>\\n\\t\\t\\t\\t\\t\\t<dt>1978</dt>\\n\\t\\t\\t\\t\\t\\t<dd>Pregnancy Discrimination Act of 1978 prohibited employment discrimination against female workers who are (or intend to become) pregnant, including discrimination in hiring, failure to promote, and wrongful termination after the Supreme Court held in 1974 that pregnancy discrimination was not a form of sex discrimination</dd>\\n\\t\\t\\t\\t\\t\\t<dt>1978</dt>\\n\\t\\t\\t\\t\\t\\t<dd><em>Regents of the University of California v. Bakke</em> (California) determined that college admission standards giving preferential consideration to minority applicants are constitutional</dd>\\n\\t\\t\\t\\t\\t\\t<dt>1990</dt>\\n\\t\\t\\t\\t\\t\\t<dd>Americans with Disabilities Act established a clear and comprehensive prohibition of discrimination on the basis of disability</dd>\\n\\t\\t\\t\\t\\t\\t<dt>1991</dt>\\n\\t\\t\\t\\t\\t\\t<dd>Civil Rights Act of 1991 superseded several narrowing U.S. Supreme Court civil rights decisions and granted women and disabled persons the right to recover money damages under Title VII of the Civil Rights Act of 1964</dd>\\n\\t\\t\\t\\t\\t\\t<dt>1993</dt>\\n\\t\\t\\t\\t\\t\\t<dd>\\xe2\\x80\\x9cDon\\xe2\\x80\\x99t Ask Don\\xe2\\x80\\x99t Tell\\xe2\\x80\\x9d policy prohibited military personnel from discriminating against or harassing closeted gay, lesbian, or bisexual service members or applicants while barring openly gay, lesbian, or bisexual Americans from military service</dd>\\n\\t\\t\\t\\t\\t\\t<dt>1993</dt>\\n\\t\\t\\t\\t\\t\\t<dd>Family and Medical Leave Act gave employees the right to take (unpaid) time off from work in order to care for a newborn or recently adopted child or to look after an ill family member</dd>\\n\\t\\t\\t\\t\\t\\t<dt>2009</dt>\\n\\t\\t\\t\\t\\t\\t<dd>Lilly Ledbetter Fair Pay Act of 2009 clarified that a discriminatory compensation decision or other practice that is unlawful occurs each time compensation is paid pursuant to the discriminatory compensation decision or other practices and thereby extends the time in which an employee can bring a lawsuit</dd>\\n\\t\\t\\t\\t\\t\\t<dt>2010</dt>\\n\\t\\t\\t\\t\\t\\t<dd>Don\\xe2\\x80\\x99t Ask, Don\\xe2\\x80\\x99t Tell Repeal Act of 2010 allowed openly gay, lesbian, and bisexual Americans to serve without discrimination in the armed forces</dd>\\n\\t\\t\\t\\t\\t\\t<dt>2013</dt>\\n\\t\\t\\t\\t\\t\\t<dd><em>United States v. Windsor</em> (New York) determined the Defense of Marriage Act\\xe2\\x80\\x99s definition of \\xe2\\x80\\x9cmarriage\\xe2\\x80\\x9d and \\xe2\\x80\\x9cspouse\\xe2\\x80\\x9d as limited to heterosexual unions unconstitutional, thus enabling same-sex couples to receive federal benefits</dd>\\n\\t\\t\\t\\t\\t\\t<dt>2013</dt>\\n\\t\\t\\t\\t\\t\\t<dd><em>Shelby County v. Holder</em> (Alabama) invalidated Section 4 of the Voting Rights Act, which provided for preclearance for any change to voting rules in particular jurisdictions </dd>\\n\\t\\t\\t\\t\\t\\t<dt>2014</dt>\\n\\t\\t\\t\\t\\t\\t<dd><em>Schuette v. Coalition to Defend Affirmative Action</em> upheld a Michigan referendum banning affirmative action in admissions at publicly funded state colleges.</dd>\\n\\t\\t\\t\\t\\t</dl>\\n\\t\\t\\t</div>\\n\\t\\t\\t<!-- end section --> \\n\\t\\t\\t\\n\\t\\t\\t<!-- CONTENT - END -->\\n\\t\\t\\t<p class=\"backtotop\"><a href=\"#skip_menu\">Back to top</a></p>\\n\\t\\t\\t<!-- Navigation -->\\n\\t\\t\\t<div id=\"main_nav_bot\" class=\"w_tert\"><a href=\"index.html\">Home</a> | <a href=\"overivew.html\">Exhibition Overview</a> | <a href=\"exhibit-items.html\">Exhibition Items</a> | <a href=\"timelines.html\">Timelines</a> | <a href=\"multimedia.html\">Multimedia</a> | <a href=\"public-programs.html\">Public Programs</a> | <a href=\"learn-more.html\">Learn More</a> | <a href=\"credits.html\">Acknowledgments</a></div>\\n\\t\\t\\t<div id=\"tert_nav_bot\"><strong>Sections:</strong> <a href=\"prologue.html\">Prologue</a> | <a href=\"segregation-era.html\">The Segregation Era (1900&ndash;1939)</a> | <a href=\"world-war-ii-and-post-war.html\">World War II and Post War (1940&ndash;1949)</a> | <a href=\"civil-rights-era.html\">Civil Rights Era (1950&ndash;1963)</a> | <a href=\"civil-rights-act-of-1964.html\">The Civil Rights Act of 1964</a> | <a href=\"immediate-impact.html\">Immediate Impact of the Civil Rights Act</a> | <a href=\"epilogue.html\">Epilogue</a></div>\\n\\t\\t</div>\\n\\t\\t<!-- end id:main_body --> \\n\\t</div>\\n\\t<!-- end id:content --> \\n\\t\\t<!-- begin: global footer -->\\n  <div id=\"f-wrapper\" class=\"fix-float\">\\n  <div id=\"footer\" class=\"fix-float\">\\n      <div class=\"cols heading\">\\n        <h2>Connect with the Library</h2>\\n        <p><a class=\"ar-more foot\" href=\"//www.loc.gov/homepage/connect.html\">All ways to connect</a></p>\\n      </div>\\n      <div class=\"cols\">\\n        <h3>Find Us On</h3>\\n        <a href=\"http://www.pinterest.com/LibraryCongress/\"><img src=\"//cdn.loc.gov/images/img-foot/pinterest.gif\" alt=\"Pinterest\" width=\"16\" height=\"16\" /></a> &nbsp; <a href=\"http://www.facebook.com/libraryofcongress\"><img src=\"//cdn.loc.gov/images/img-foot/facebook.gif\" alt=\"Facebook\" width=\"16\" height=\"16\" /></a> &nbsp; <a href=\"http://twitter.com/#!/librarycongress\"><img src=\"//cdn.loc.gov/images/img-foot/twitter.gif\" alt=\"Twitter\" width=\"16\" height=\"16\" /></a> &nbsp; <a href=\"http://www.youtube.com/libraryofcongress\"><img src=\"//cdn.loc.gov/images/img-foot/youtube.gif\" alt=\"YouTube\" width=\"16\" height=\"16\" /></a> &nbsp; <a href=\"http://www.flickr.com/photos/library_of_congress/\"><img src=\"//cdn.loc.gov/images/img-foot/flickr.gif\" alt=\"Flickr\" width=\"16\" height=\"16\" /></a>\\n      </div>\\n      <div class=\"cols\">\\n        <h3>Subscribe &amp; Comment</h3>\\n        <ul class=\"plain\">\\n          <li><a href=\"//www.loc.gov/rss/\">RSS &amp; E-Mail</a></li>\\n          <li><a href=\"http://blogs.loc.gov/\">Blogs</a></li>\\n        </ul>\\n      </div>\\n      <div class=\"cols\">\\n        <h3>Download &amp; Play</h3>\\n        <ul class=\"plain\">\\n          <li><a href=\"//www.loc.gov/apps/\">Apps</a></li>\\n          <li><a href=\"//www.loc.gov/podcasts/\">Podcasts</a></li>\\n          <li><a href=\"//www.loc.gov/today/cyberlc/index.php\">Webcasts</a></li>\\n          <li><a href=\"http://itunes.apple.com/us/institution/library-of-congress/id386017159\" class=\"external foot mod\">iTunesU<span> (external link)</span></a></li>\\n        </ul>\\n      </div>\\n      <div class=\"cols\">\\n        <h3>Questions</h3>\\n        <ul class=\"plain\">\\n          <li><a href=\"https://ask.loc.gov/\">Ask a Librarian</a></li>\\n          <li><a href=\"//www.loc.gov/help/contact-general.html\" accesskey=\"8\">Contact Us</a></li>\\n        </ul>\\n      </div>\\n      <div class=\"clear\"><!-- --></div>\\n      <p class=\"links\">\\n      <a href=\"//www.loc.gov/about/\">About</a> |\\n      <a href=\"//www.loc.gov/pressroom/login\">Press</a> |\\n      <a href=\"//www.loc.gov/hr/employment/index.php\">Jobs</a> |\\n      <a href=\"//www.loc.gov/philanthropy/index.php\">Donate</a>\\n      <br />\\n      <a href=\"//www.loc.gov/about/oig/\">Inspector General</a> |\\n      <a href=\"//www.loc.gov/homepage/legal.html\" accesskey=\"9\">Legal</a> |\\n      <a href=\"//www.loc.gov/access/\" accesskey=\"0\">Accessibility</a> |\\n      <a href=\"//www.loc.gov/global/disclaim.html\">External Link Disclaimer</a> |\\n      <a href=\"http://www.usa.gov/\">USA.gov</a>\\n      </p>\\n      <span class=\"speech\"><a href=\"//www.loc.gov/access/web.html\">Speech Enabled</a></span>\\n  </div><!-- end id:footer -->\\n  </div><!-- end id:f-wrapper -->\\n\\t<!-- end: global footer -->\\n \\n</div>\\n<!-- end id:container -->\\n<script>if(window[\\'_satellite\\']){_satellite.pageBottom();}</script>\\n</body>\\n</html>'\n"
     ]
    }
   ],
   "source": [
    "print(res.content)"
   ]
  },
  {
   "cell_type": "code",
   "execution_count": 74,
   "id": "78d47349",
   "metadata": {},
   "outputs": [],
   "source": [
    "soup = BeautifulSoup(res.content)"
   ]
  },
  {
   "cell_type": "code",
   "execution_count": 75,
   "id": "80e38801",
   "metadata": {},
   "outputs": [
    {
     "data": {
      "text/plain": [
       "'Legal Timeline - The Civil Rights Act of 1964: A Long Struggle for Freedom | Exhibitions - Library of Congress'"
      ]
     },
     "execution_count": 75,
     "metadata": {},
     "output_type": "execute_result"
    }
   ],
   "source": [
    "soup.title.string"
   ]
  },
  {
   "cell_type": "code",
   "execution_count": 76,
   "id": "8d9a7b7c",
   "metadata": {},
   "outputs": [],
   "source": [
    "contents = soup.find(\"div\", {\"id\":\"main_body\"})"
   ]
  },
  {
   "cell_type": "code",
   "execution_count": 77,
   "id": "e0dcea09",
   "metadata": {},
   "outputs": [],
   "source": [
    "eras = contents.findAll(\"div\", {\"class\":\"section\"})"
   ]
  },
  {
   "cell_type": "code",
   "execution_count": 79,
   "id": "f13e9449",
   "metadata": {},
   "outputs": [],
   "source": [
    "events = []"
   ]
  },
  {
   "cell_type": "code",
   "execution_count": 85,
   "id": "155d6990",
   "metadata": {},
   "outputs": [
    {
     "data": {
      "text/plain": [
       "<div class=\"section\">\n",
       "<h3>1964–2014</h3>\n",
       "<dl>\n",
       "<dt>1964</dt>\n",
       "<dd>Civil Rights Act of 1964 prohibited discrimination in public accommodations and employment; authorized the attorney general to bring school desegregation suits and the federal government to withdraw funds from schools and other governmental entities receiving federal funds if they discriminated; and provided enhanced enforcement mechanisms for protecting civil and voting rights</dd>\n",
       "<dt>1964</dt>\n",
       "<dd>Twenty-fourth Amendment to the U.S. Constitution eliminated poll taxes in federal elections</dd>\n",
       "<dt>1965</dt>\n",
       "<dd>Voting Rights Act of 1965 enforced the Fifteenth Amendment to the U.S. Constitution and provided for substantial federal supervision of voting and election procedures in order to eliminate racial discrimination and protect the right to vote</dd>\n",
       "<dt>1965</dt>\n",
       "<dd>Older Americans Act of 1965 provided assistance in the development of new or improved programs to help older persons through grants to the states for community planning and services and for training through research, development, or training project grants—and to establish within the Department of Health, Education and Welfare an operating agency to be designated as the Administration on Aging</dd>\n",
       "<dt>1965</dt>\n",
       "<dd>Medicare Act provided a hospital insurance program for the aged under the Social Security Act with a supplementary medical benefits program and an expanded program of medical assistance to increase benefits under the Old-Age, Survivors, and Disability Insurance System and improved the federal-state public assistance programs</dd>\n",
       "<dt>1965</dt>\n",
       "<dd>Act to Amend the Vocational Rehabilitation Act assisted in providing more flexibility in the financing and administration of state rehabilitation programs and expanded and improved services and facilities provided under such programs, particularly for the mentally disabled</dd>\n",
       "<dt>1965</dt>\n",
       "<dd>Executive Order 11246 authorized federal agencies to enforce the Civil Rights Act of 1964 (Johnson)</dd>\n",
       "<dt>1966</dt>\n",
       "<dd><em>Harper v. Virginia Board of Elections</em> found Virginia’s poll tax unconstitutional under the equal protection clause of the Fourteenth Amendment, making poll taxes illegal for state and federal elections</dd>\n",
       "<dt>1966</dt>\n",
       "<dd>Executive Order 11375 added sex discrimination to the enforcement of the Civil Rights Act of 1964 as required by Executive Order 11246 (Johnson)</dd>\n",
       "<dt>1967</dt>\n",
       "<dd>Age Discrimination in Employment Act of 1967 prohibited arbitrary age discrimination in employment and helped employers and workers find ways of meeting problems arising from the impact of age on employment</dd>\n",
       "<dt>1968</dt>\n",
       "<dd>Civil Rights Act of 1968 provided for equal housing opportunities regardless of race, creed, or national origin and made it a federal crime to injure or intimidate anyone because of their race, color, religion, or national origin</dd>\n",
       "<dt>1968</dt>\n",
       "<dd><em>Jones v. Alfred H. Mayer Co</em>. (Missouri) prohibited purely private discrimination in the sale or rental of property</dd>\n",
       "<dt>1968</dt>\n",
       "<dd><em>Green et. al. v. County School Board of New Kent County</em> (Virginia) reversed the decision of the Virginia Court of Appeals that supported separate schools for whites and blacks</dd>\n",
       "<dt>1969</dt>\n",
       "<dd>Executive Order 11478 required equal opportunity and affirmative action programs in all federal agencies (Nixon)</dd>\n",
       "<dt>1972</dt>\n",
       "<dd>The Equal Opportunity Act amended the Civil Rights Act of 1964 to apply to local, state, and federal governments and allow the Equal Employment Opportunity Commission to bring suits itself</dd>\n",
       "<dt>1973</dt>\n",
       "<dd>Vocational Rehabilitation Act of 1973 prohibited discrimination on the basis of disability in federal programs, federal contractors, programs receiving federal money, and federal employment</dd>\n",
       "<dt>1973</dt>\n",
       "<dd><em>Keyes v. Denver School District</em> (Colorado) distinguished between <em>de jure</em> (sanctioned by law) and <em>de facto</em> (true in fact but not officially sanctioned) school segregation</dd>\n",
       "<dt>1973</dt>\n",
       "<dd><em>San Antonio Independent School District v. Rodriguez</em> (Texas) held that there was no constitutional violation in unequal school funding and ruled that education is not a fundamental right</dd>\n",
       "<dt>1973</dt>\n",
       "<dd><em>Milliken v. Bradley</em> (Michigan) found that <em>de jure</em> segregation in one school district could not justify busing children to and from surrounding school districts</dd>\n",
       "<dt>1975</dt>\n",
       "<dd>Education for All Handicapped Children Act required all public schools accepting federal funds to provide equal access to education and one free meal per day for children with physical and mental disabilities</dd>\n",
       "<dt>1975</dt>\n",
       "<dd>Age Discrimination Act of 1975 amended the Older Americans Act of 1965 to establish social services programs for older Americans to extend the authorizations of appropriations contained in such act, and to prohibit discrimination on the basis of age</dd>\n",
       "<dt>1976</dt>\n",
       "<dd><em>Hills v. Gautreau</em> (Illinois) determined that HUD had provided financial assistance to the Chicago Housing Authority, which had used the funds in a racially discriminatory way, violating Title VI and the 5th Amendment; HUD’s violation authorized the judiciary to require a remedy that extended beyond the city of Chicago</dd>\n",
       "<dt>1978</dt>\n",
       "<dd>Pregnancy Discrimination Act of 1978 prohibited employment discrimination against female workers who are (or intend to become) pregnant, including discrimination in hiring, failure to promote, and wrongful termination after the Supreme Court held in 1974 that pregnancy discrimination was not a form of sex discrimination</dd>\n",
       "<dt>1978</dt>\n",
       "<dd><em>Regents of the University of California v. Bakke</em> (California) determined that college admission standards giving preferential consideration to minority applicants are constitutional</dd>\n",
       "<dt>1990</dt>\n",
       "<dd>Americans with Disabilities Act established a clear and comprehensive prohibition of discrimination on the basis of disability</dd>\n",
       "<dt>1991</dt>\n",
       "<dd>Civil Rights Act of 1991 superseded several narrowing U.S. Supreme Court civil rights decisions and granted women and disabled persons the right to recover money damages under Title VII of the Civil Rights Act of 1964</dd>\n",
       "<dt>1993</dt>\n",
       "<dd>“Don’t Ask Don’t Tell” policy prohibited military personnel from discriminating against or harassing closeted gay, lesbian, or bisexual service members or applicants while barring openly gay, lesbian, or bisexual Americans from military service</dd>\n",
       "<dt>1993</dt>\n",
       "<dd>Family and Medical Leave Act gave employees the right to take (unpaid) time off from work in order to care for a newborn or recently adopted child or to look after an ill family member</dd>\n",
       "<dt>2009</dt>\n",
       "<dd>Lilly Ledbetter Fair Pay Act of 2009 clarified that a discriminatory compensation decision or other practice that is unlawful occurs each time compensation is paid pursuant to the discriminatory compensation decision or other practices and thereby extends the time in which an employee can bring a lawsuit</dd>\n",
       "<dt>2010</dt>\n",
       "<dd>Don’t Ask, Don’t Tell Repeal Act of 2010 allowed openly gay, lesbian, and bisexual Americans to serve without discrimination in the armed forces</dd>\n",
       "<dt>2013</dt>\n",
       "<dd><em>United States v. Windsor</em> (New York) determined the Defense of Marriage Act’s definition of “marriage” and “spouse” as limited to heterosexual unions unconstitutional, thus enabling same-sex couples to receive federal benefits</dd>\n",
       "<dt>2013</dt>\n",
       "<dd><em>Shelby County v. Holder</em> (Alabama) invalidated Section 4 of the Voting Rights Act, which provided for preclearance for any change to voting rules in particular jurisdictions </dd>\n",
       "<dt>2014</dt>\n",
       "<dd><em>Schuette v. Coalition to Defend Affirmative Action</em> upheld a Michigan referendum banning affirmative action in admissions at publicly funded state colleges.</dd>\n",
       "</dl>\n",
       "</div>"
      ]
     },
     "execution_count": 85,
     "metadata": {},
     "output_type": "execute_result"
    }
   ],
   "source": [
    "eras[4]"
   ]
  },
  {
   "cell_type": "code",
   "execution_count": 43,
   "id": "2b317d11",
   "metadata": {},
   "outputs": [],
   "source": [
    "era = eras[0].find(\"div\", {\"class\":\"exhibit2col-pic-left\"}).find(\"dl\")"
   ]
  },
  {
   "cell_type": "code",
   "execution_count": 69,
   "id": "abcafdbf",
   "metadata": {},
   "outputs": [
    {
     "data": {
      "text/plain": [
       "(33, 33)"
      ]
     },
     "execution_count": 69,
     "metadata": {},
     "output_type": "execute_result"
    }
   ],
   "source": [
    "len(era.findAll(\"dd\")), len(era.findAll(\"dt\"))"
   ]
  },
  {
   "cell_type": "code",
   "execution_count": 73,
   "id": "fc824ed7",
   "metadata": {
    "scrolled": false
   },
   "outputs": [
    {
     "name": "stdout",
     "output_type": "stream",
     "text": [
      "1640\n",
      "Negro indentured servant John Punch ran away and received a life sentence in Virginia; his white counterparts only received three-year sentences\n",
      "\n",
      "1641\n",
      "Massachusetts authorized slavery with legislation\n",
      "\n",
      "1660\n",
      "Virginia specifically punished indentured servants who ran away with Negroes slaves\n",
      "\n",
      "1662\n",
      "Virginia determined birthright of Negroes based on the status of the mother rather than the father, as had been the British custom for centuries\n",
      "\n",
      "1680\n",
      "Virginia enacted the first major slave codes\n",
      "\n",
      "1705\n",
      "Virginia relegated slaves, Indians, and mulattos to the status of property\n",
      "\n",
      "1776\n",
      "Declaration of Independence signed\n",
      "\n",
      "1781\n",
      "Quock Walker v. Jennison\n",
      " (Massachusetts) relied on the Declaration of Rights, which ultimately led to the abolition of slavery in 1783 there\n",
      "\n",
      "1785\n",
      "New York passed legislation for the gradual emancipation of slaves\n",
      "\n",
      "1788\n",
      "U.S. Constitution is ratified by eleven states\n",
      "\n",
      "1789\n",
      "George Washington, a slave owner, inaugurated as the first president of the United States \n",
      "\n",
      "1791\n",
      "“Bill of Rights” added to U.S. Constitution; Virginia ratified on December 15, 1791\n",
      "\n",
      "1820\n",
      "Missouri Compromise created rules for the expansion of slavery into western territories and prohibited slavery north of the 36° 30´ latitude except in Missouri\n",
      "\n",
      "1841\n",
      "Former President John Quincy Adams defended Africans aboard the Spanish ship \n",
      "Amistad\n",
      "\n",
      "1850\n",
      "Fugitive Slave Act of 1850 required citizens to assist in the return of escaped slaves to their owners \n",
      "\n",
      "1850 \n",
      "Roberts v. City of Boston\n",
      " (Massachusetts) found no constitutional impediment to segregated schools\n",
      "\n",
      "1854\n",
      "Kansas-Nebraska Act repealed the Missouri Compromise, allowing slavery in the northern territories\n",
      "\n",
      "1857\n",
      "Dred Scott v. Sanford\n",
      " (Missouri) declared that all blacks—slaves as well as free—were not and could never become citizens of the United States\n",
      "\n",
      "1862\n",
      "Federal emancipation of slaves in the District of Columbia\n",
      "\n",
      "1863\n",
      "Emancipation Proclamation took effect\n",
      "\n",
      "1864\n",
      "Fugitive Slave Act repealed\n",
      "\n",
      "1865\n",
      "Thirteenth Amendment to the U.S. Constitution abolished slavery\n",
      "\n",
      "1865\n",
      "Act to Establish a Bureau for the Relief of Freedmen and Refugees\n",
      "\n",
      "1866\n",
      "Civil Rights Act of 1866 guaranteed equal rights under law for all people who lived within the jurisdiction of the United States \n",
      "\n",
      "1868\n",
      "Fourteenth Amendment to the U.S. Constitution granted citizenship to all people born or naturalized in the United States and prohibited states from denying any person the equal protection of the laws or depriving any person of life, liberty, or property without due process of law\n",
      "\n",
      "1870\n",
      "Fifteenth Amendment to the U.S. Constitution granted African American men the right to vote\n",
      "\n",
      "1870–1871\n",
      "Three Enforcement Acts gave the federal government substantial authority to prosecute those who violated the civil and political rights of African Americans, especially members of the Ku Klux Klan \n",
      "\n",
      "1873\n",
      "Slaughterhouse Cases\n",
      " limited the Constitutional significance of the 14th Amendment’s privileges and immunities clause by interpreting the clause as only protecting rights of national citizenship from actions of state government\n",
      "\n",
      "1873\n",
      "Bradwell v. Illinois\n",
      " rejected a woman’s claim that the Fourteenth Amendment required the state to allow her to practice law in the first sex discrimination case heard by the U.S. Supreme Court\n",
      "\n",
      "1875\n",
      "Civil Rights Act of 1875 guaranteed African Americans equal treatment in public accommodations, public transportation, and prohibited their exclusion from jury service \n",
      "\n",
      "1875\n",
      "Minor v. Happersett\n",
      " (Missouri) held that a state could constitutionally forbid a woman from voting\n",
      "\n",
      "1883\n",
      "Civil Rights Cases\n",
      " heard by the U.S. Supreme Court declared parts of the 1875 Civil Rights Act unconstitutional, including the prohibition of racial discrimination in inns, public conveyances, and places of public amusement\n",
      "\n",
      "1896\n",
      "Plessy v. Ferguson\n",
      " (Louisiana) upheld the constitutionality of a Louisiana statute that required railroads to provide “equal but separate accommodations for the white and colored races”\n",
      "\n"
     ]
    }
   ],
   "source": [
    "for (i,x) in enumerate(era.findAll(\"dd\")):\n",
    "    print(era.findAll(\"dt\")[i].string)\n",
    "    print(\"\\n\".join(list(x.strings)))\n",
    "    print()"
   ]
  },
  {
   "cell_type": "code",
   "execution_count": 124,
   "id": "cd04c3b3",
   "metadata": {},
   "outputs": [],
   "source": [
    "events = []\n",
    "for eraIndex in range(len(eras)):\n",
    "    if eraIndex != 4:\n",
    "        era = eras[eraIndex].find(\"div\", {\"class\":\"exhibit2col-pic-left\"}).find(\"dl\")\n",
    "    else:\n",
    "        era = eras[eraIndex].find(\"dl\")\n",
    "\n",
    "    years = list(map(lambda x: eval(x.string[:4]), era.findAll(\"dt\")))\n",
    "    descriptions = list(map(lambda x: \"\\n\".join(x.strings), era.findAll(\"dd\")))\n",
    "    \n",
    "    for i in range(len(years)):\n",
    "        height = years[:i].count(years[i])\n",
    "        events.append({\n",
    "            \"year\":years[i],\n",
    "            \"description\": descriptions[i],\n",
    "            \"height\": height\n",
    "        })\n",
    "\n",
    "with open(\"event-information.json\", \"w\") as f:\n",
    "    json.dump(events, f, indent=2)"
   ]
  },
  {
   "cell_type": "code",
   "execution_count": 125,
   "id": "6360bdb1",
   "metadata": {},
   "outputs": [
    {
     "data": {
      "text/plain": [
       "(100, 72)"
      ]
     },
     "execution_count": 125,
     "metadata": {},
     "output_type": "execute_result"
    }
   ],
   "source": [
    "len(list(map(lambda x: x[\"year\"], events))), len(set(map(lambda x: x[\"year\"], events)))"
   ]
  },
  {
   "cell_type": "code",
   "execution_count": null,
   "id": "a19e601b",
   "metadata": {},
   "outputs": [],
   "source": []
  }
 ],
 "metadata": {
  "kernelspec": {
   "display_name": "Python 3.8.5 64-bit ('base': conda)",
   "language": "python",
   "name": "python385jvsc74a57bd0cb7858e6449f0e6d91bad73d3f714a70b59390f1e92cab0afa6838b1d8ca9641"
  },
  "language_info": {
   "codemirror_mode": {
    "name": "ipython",
    "version": 3
   },
   "file_extension": ".py",
   "mimetype": "text/x-python",
   "name": "python",
   "nbconvert_exporter": "python",
   "pygments_lexer": "ipython3",
   "version": "3.9.5"
  }
 },
 "nbformat": 4,
 "nbformat_minor": 5
}
